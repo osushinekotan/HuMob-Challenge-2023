{
 "cells": [
  {
   "cell_type": "code",
   "execution_count": 9,
   "id": "2f1826f1-dcd4-44d9-82b0-2a0edef79df2",
   "metadata": {},
   "outputs": [
    {
     "name": "stdout",
     "output_type": "stream",
     "text": [
      "/workspace\n"
     ]
    }
   ],
   "source": [
    "%cd /workspace\n",
    "\n",
    "from pathlib import Path\n",
    "\n",
    "import numpy as np\n",
    "import pandas as pd\n",
    "import polars as pl\n",
    "from tqdm import tqdm"
   ]
  },
  {
   "cell_type": "code",
   "execution_count": 10,
   "id": "fa7079b8-ca84-4a05-9718-c9cdec5eb9f8",
   "metadata": {},
   "outputs": [],
   "source": [
    "INPUT = Path(\"/workspace/resources/input\")\n",
    "task_df = pd.read_parquet(INPUT / \"task2_dataset_raw_train.parquet\")\n",
    "poi_df = pd.read_parquet(INPUT / \"cell_POIcat.parquet\")\n",
    "\n",
    "# task_df = pd.concat([task_df] * 4)"
   ]
  },
  {
   "cell_type": "markdown",
   "id": "c2d52ed5-36b0-4a64-81a2-13eb930fe678",
   "metadata": {},
   "source": [
    "### GCN Examples"
   ]
  },
  {
   "cell_type": "code",
   "execution_count": 15,
   "id": "7e7e6ad3-4c41-4dbb-ba0f-b807afa62e01",
   "metadata": {},
   "outputs": [
    {
     "name": "stdout",
     "output_type": "stream",
     "text": [
      "tensor([[0.0000],\n",
      "        [0.2945],\n",
      "        [0.5518]], grad_fn=<MmBackward0>)\n"
     ]
    }
   ],
   "source": [
    "import torch\n",
    "import torch.nn as nn\n",
    "import torch.nn.functional as F\n",
    "\n",
    "\n",
    "# Graph Convolution 層の定義\n",
    "class GraphConvolution(nn.Module):\n",
    "    def __init__(self, in_features, out_features):\n",
    "        super(GraphConvolution, self).__init__()\n",
    "        self.weight = nn.Parameter(torch.FloatTensor(in_features, out_features))\n",
    "        self.reset_parameters()\n",
    "\n",
    "    def reset_parameters(self):\n",
    "        nn.init.xavier_uniform_(self.weight)\n",
    "\n",
    "    def forward(self, input, adj):\n",
    "        support = torch.matmul(input, self.weight)\n",
    "        output = torch.matmul(adj, support)\n",
    "        return output\n",
    "\n",
    "\n",
    "# Mesh GCN モデルの定義\n",
    "class MeshGCN(nn.Module):\n",
    "    def __init__(self, feature_dim, hidden_dim, num_classes):\n",
    "        super(MeshGCN, self).__init__()\n",
    "        self.gc1 = GraphConvolution(feature_dim, hidden_dim)\n",
    "        self.gc2 = GraphConvolution(hidden_dim, num_classes)\n",
    "\n",
    "    def forward(self, x, adj):\n",
    "        x = F.relu(self.gc1(x, adj))\n",
    "        x = self.gc2(x, adj)\n",
    "        return x\n",
    "\n",
    "\n",
    "# メッシュの特徴データと隣接行列の準備\n",
    "mesh_features = torch.rand((4, 10))\n",
    "adjacency_matrix = torch.tensor(\n",
    "    [\n",
    "        [0, 1, 0, 0],\n",
    "        [1, 0, 1, 0],\n",
    "        [0, 1, 0, 1],\n",
    "        [0, 0, 1, 0],\n",
    "    ],\n",
    "    dtype=torch.float32,\n",
    ")\n",
    "\n",
    "# ユーザーのメッシュ位置のインデックス\n",
    "user_indices = torch.tensor([0, 2, 3])  # user1はm1, user2はm3, user3はm4に位置\n",
    "\n",
    "# ユーザーデータの取得\n",
    "user_data = mesh_features[user_indices]  # features\n",
    "\n",
    "# ユーザーに対応する隣接行列の部分の取得\n",
    "user_adj = adjacency_matrix[user_indices][:, user_indices]\n",
    "\n",
    "# モデルのインスタンス化と予測の実行\n",
    "model = MeshGCN(10, 64, 1)\n",
    "updated_features = model(user_data, user_adj)\n",
    "\n",
    "print(updated_features)"
   ]
  },
  {
   "cell_type": "code",
   "execution_count": 16,
   "id": "039d327b-e550-4004-b2fc-46ef354567c2",
   "metadata": {},
   "outputs": [
    {
     "data": {
      "text/plain": [
       "torch.Size([4, 10])"
      ]
     },
     "execution_count": 16,
     "metadata": {},
     "output_type": "execute_result"
    }
   ],
   "source": [
    "mesh_features.shape"
   ]
  },
  {
   "cell_type": "code",
   "execution_count": 17,
   "id": "ae207ce3-9cbd-4048-9c9b-9f8ec9d8d57e",
   "metadata": {},
   "outputs": [
    {
     "data": {
      "text/plain": [
       "tensor([0, 2, 3])"
      ]
     },
     "execution_count": 17,
     "metadata": {},
     "output_type": "execute_result"
    }
   ],
   "source": [
    "user_indices"
   ]
  },
  {
   "cell_type": "code",
   "execution_count": 18,
   "id": "e1406cc4-7631-462d-8200-62bae9490dcc",
   "metadata": {},
   "outputs": [
    {
     "data": {
      "text/plain": [
       "torch.Size([3, 10])"
      ]
     },
     "execution_count": 18,
     "metadata": {},
     "output_type": "execute_result"
    }
   ],
   "source": [
    "user_data.shape"
   ]
  },
  {
   "cell_type": "code",
   "execution_count": 19,
   "id": "cdb1fce5-977a-4728-8965-88b632e2abaa",
   "metadata": {},
   "outputs": [
    {
     "data": {
      "text/plain": [
       "tensor([[0., 0., 0.],\n",
       "        [0., 0., 1.],\n",
       "        [0., 1., 0.]])"
      ]
     },
     "execution_count": 19,
     "metadata": {},
     "output_type": "execute_result"
    }
   ],
   "source": [
    "user_adj"
   ]
  },
  {
   "cell_type": "code",
   "execution_count": 20,
   "id": "8e59b004-5c8b-42ad-a64c-8b2af17ec881",
   "metadata": {},
   "outputs": [
    {
     "data": {
      "text/plain": [
       "torch.Size([3, 1])"
      ]
     },
     "execution_count": 20,
     "metadata": {},
     "output_type": "execute_result"
    }
   ],
   "source": [
    "updated_features.shape"
   ]
  },
  {
   "cell_type": "markdown",
   "id": "246d02de-81a6-4cf0-a4e9-424641ba3ae9",
   "metadata": {},
   "source": [
    "### Transformer Example"
   ]
  },
  {
   "cell_type": "code",
   "execution_count": 74,
   "id": "4a87b90f-4c8c-4871-85b7-c1fbf646b4de",
   "metadata": {},
   "outputs": [
    {
     "name": "stdout",
     "output_type": "stream",
     "text": [
      "torch.Size([32, 10, 1])\n"
     ]
    }
   ],
   "source": [
    "import torch\n",
    "import torch.nn as nn\n",
    "\n",
    "\n",
    "class CustomTransformerModelV1(nn.Module):\n",
    "    def __init__(\n",
    "        self,\n",
    "        input_size1,\n",
    "        input_size2,\n",
    "        d_model,\n",
    "        output_size,\n",
    "        nhead=8,\n",
    "        num_encoder_layers=6,\n",
    "        num_decoder_layers=6,\n",
    "    ):\n",
    "        super().__init__()\n",
    "        self.embedding_src = nn.Linear(input_size1, d_model)\n",
    "        self.embedding_tgt = nn.Linear(input_size2, d_model)\n",
    "        \n",
    "        self.transformer = nn.Transformer(\n",
    "            d_model,\n",
    "            nhead,\n",
    "            num_encoder_layers,\n",
    "            num_decoder_layers,\n",
    "            batch_first=True,\n",
    "        )\n",
    "        self.out = nn.Linear(d_model, output_size)\n",
    "\n",
    "    def forward(self, batch):\n",
    "        x_src = self.embedding_src(batch[\"feature_seqs\"])\n",
    "        x_tgt = self.embedding_tgt(batch[\"auxiliary_seqs\"])\n",
    "\n",
    "        src_mask = batch[\"feature_padding_mask\"]\n",
    "        tgt_mask = batch[\"auxiliary_padding_mask\"]\n",
    "\n",
    "        x = self.transformer(\n",
    "            src=x_src,\n",
    "            tgt=x_tgt,\n",
    "            src_key_padding_mask=src_mask,\n",
    "            tgt_key_padding_mask=tgt_mask,\n",
    "        )\n",
    "        x = self.out(x)\n",
    "\n",
    "        return x\n",
    "\n",
    "\n",
    "# ハイパーパラメータ\n",
    "batch_size = 32\n",
    "input_size1 = 5\n",
    "input_size2 = 12\n",
    "d_model = 128\n",
    "seq_len_src = 20\n",
    "seq_len_tgt = 10\n",
    "output_size = 1\n",
    "nhead = 2\n",
    "\n",
    "# モデルのインスタンス化\n",
    "model = CustomTransformerModelV1(nhead=nhead, input_size1=input_size1, input_size2=input_size2, d_model=d_model, output_size=output_size)\n",
    "\n",
    "# 入力データの準備\n",
    "batch = {\n",
    "    \"feature_seqs\": torch.randn(batch_size, seq_len_src, input_size1),\n",
    "    \"auxiliary_seqs\": torch.randn(batch_size, seq_len_tgt, input_size2),\n",
    "    \"feature_padding_mask\": (torch.randn(batch_size, seq_len_src) > 0.5),  # 仮のマスク\n",
    "    \"auxiliary_padding_mask\": (torch.randn(batch_size, seq_len_tgt) > 0.5),  # 仮のマスク\n",
    "}\n",
    "# モデルの実行\n",
    "output = model(batch)\n",
    "print(output.shape)  # [batch_size, seq_len_tgt, output_size] の形になるはず"
   ]
  },
  {
   "cell_type": "code",
   "execution_count": null,
   "id": "7aab388e-7454-4599-bd81-8d31fb4dd040",
   "metadata": {},
   "outputs": [],
   "source": []
  }
 ],
 "metadata": {
  "kernelspec": {
   "display_name": "Python 3 (ipykernel)",
   "language": "python",
   "name": "python3"
  },
  "language_info": {
   "codemirror_mode": {
    "name": "ipython",
    "version": 3
   },
   "file_extension": ".py",
   "mimetype": "text/x-python",
   "name": "python",
   "nbconvert_exporter": "python",
   "pygments_lexer": "ipython3",
   "version": "3.11.4"
  }
 },
 "nbformat": 4,
 "nbformat_minor": 5
}
