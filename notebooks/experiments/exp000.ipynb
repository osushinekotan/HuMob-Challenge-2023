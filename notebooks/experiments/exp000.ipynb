{
 "cells": [
  {
   "cell_type": "code",
   "execution_count": null,
   "metadata": {},
   "outputs": [],
   "source": [
    "import sys\n",
    "sys.path.append(\"../../\")\n",
    "\n",
    "import pandas as pd\n",
    "from pathlib import Path\n",
    "from src.logger import Logger\n",
    "from src.util import read_parquet_from_csv\n",
    "\n",
    "from torch.nn.utils.rnn import pad_sequence\n",
    "import torch"
   ]
  },
  {
   "cell_type": "code",
   "execution_count": null,
   "metadata": {},
   "outputs": [],
   "source": [
    "class Config:\n",
    "    debug = True\n",
    "    seed = 8823"
   ]
  },
  {
   "cell_type": "code",
   "execution_count": null,
   "metadata": {},
   "outputs": [],
   "source": [
    "HOME = Path(\"/workspace\")\n",
    "RESOURCES = HOME / \"resources\"\n",
    "INPUT = RESOURCES / \"input\"\n",
    "\n",
    "config = Config()\n",
    "logger = Logger(__name__)"
   ]
  },
  {
   "cell_type": "code",
   "execution_count": null,
   "metadata": {},
   "outputs": [],
   "source": [
    "raw_train_df = read_parquet_from_csv(filepath=INPUT / \"task1_dataset.csv.gz\", dirpath=INPUT)\n",
    "poi_df = read_parquet_from_csv(filepath=INPUT / \"cell_POIcat.csv.gz\", dirpath=INPUT)\n",
    "\n",
    "if config.debug:\n",
    "    user_ids = task1_df[\"uid\"].sample(100, random_state=config.seed).tolist()\n",
    "    raw_train_df = raw_train_df[raw_train_df[\"uid\"].isin(user_ids)].reset_index(drop=True)\n",
    "    \n",
    "raw_train_df.head()"
   ]
  },
  {
   "cell_type": "code",
   "execution_count": null,
   "metadata": {},
   "outputs": [],
   "source": [
    "\n",
    "\n",
    "class GroupedDiffFeatureExtractor():\n",
    "    def __init__(self, group_key:str=\"uid\", group_values:list[str]=[\"t\", \"d\"], intervals:list[int]=[1,2]):\n",
    "        self.group_key = group_key\n",
    "        self.group_values = group_values\n",
    "        self.intervals = intervals\n",
    "    \n",
    "    def __call__(self, df):\n",
    "        cols = [{v:f\"{v}_grpby_{self.group_key}_diff_{interval}\" for v in self.group_values} for interval in self.intervals]\n",
    "        out_df = pd.concat([df.groupby(self.group_key)[self.group_values].diff(interval).rename(columns=col) for interval, col in zip(self.intervals, cols)], axis=1)\n",
    "        return out_df.add_prefix(\"f_\")\n",
    "    \n",
    "    \n",
    "def sort_df(df):\n",
    "    return df.sort_values([\"uid\", \"d\", \"t\"]).reset_index(drop=True)\n",
    "\n",
    "\n",
    "def make_features(df):\n",
    "    df = sort_df(train_df)\n",
    "    funcs = [\n",
    "        GroupedDiffFeatureExtractor(\n",
    "            group_key=\"uid\", \n",
    "            group_values=[\"t\", \"d\"], \n",
    "            intervals=[1,2],\n",
    "            )\n",
    "        ]\n",
    "    features_df = pd.concat([df] + [func(df) for func in funcs], axis=1)\n",
    "    return features_df\n",
    "    \n",
    "        \n",
    "    \n",
    "train_df = make_features(raw_train_df)\n",
    "train_df.head()"
   ]
  },
  {
   "cell_type": "code",
   "execution_count": null,
   "metadata": {},
   "outputs": [],
   "source": [
    "\n",
    "def make_sequences(df:pd.DataFrame, group_key:str, group_values:list[str]):\n",
    "    grouped = df.groupby(group_key)\n",
    "    sequences = [torch.tensor(group[group_values].to_numpy()) for _, group in grouped]\n",
    "    return sequences\n",
    "    \n",
    "feature_names = [x for x in train_df.columns if x.startswith(\"f_\")]\n",
    "feature_seqs = make_sequences(df=train_df, group_key=\"uid\", group_values=feature_names)\n",
    "target_seqs = make_sequences(df=train_df, group_key=\"uid\", group_values=[\"x\", \"y\"])\n"
   ]
  },
  {
   "cell_type": "code",
   "execution_count": null,
   "metadata": {},
   "outputs": [],
   "source": [
    "class TrainDataset(torch.utils.data.Dataset):\n",
    "    def __init__(self, feature_seqs):\n",
    "        self.feature_seqs = feature_seqs\n",
    "\n",
    "    def __len__(self):\n",
    "        return len(self.feature_seqs)\n",
    "\n",
    "    def __getitem__(self, index: int) -> dict[str : torch.Tensor]:\n",
    "        feature_seqs = self.feature_seqs[index]\n",
    "        return {\"feature_seqs\":feature_seqs}\n",
    "\n",
    "\n",
    "def collate_fn(batch):\n",
    "    # batch is a list of sequences\n",
    "    feature_seqs = [item[\"feature_seqs\"] for item in batch]\n",
    "    lengths = [len(seq) for seq in feature_seqs]\n",
    "    feature_seqs_padded = pad_sequence([torch.as_tensor(seq) for seq in feature_seqs], batch_first=True)\n",
    "    return {\"feature_seqs\":feature_seqs_padded, \"lengths\":lengths}\n",
    "\n",
    "ds = TrainDataset(feature_seqs=feature_seqs)\n",
    "dl = torch.utils.data.DataLoader(ds, batch_size=5, collate_fn=collate_fn)\n",
    "\n",
    "for x in dl:\n",
    "    print(x[\"lengths\"], [len(x_) for x_ in x[\"feature_seqs\"]])"
   ]
  },
  {
   "cell_type": "code",
   "execution_count": null,
   "metadata": {},
   "outputs": [],
   "source": []
  },
  {
   "cell_type": "code",
   "execution_count": null,
   "metadata": {},
   "outputs": [],
   "source": []
  }
 ],
 "metadata": {
  "kernelspec": {
   "display_name": ".venv",
   "language": "python",
   "name": "python3"
  },
  "language_info": {
   "codemirror_mode": {
    "name": "ipython",
    "version": 3
   },
   "file_extension": ".py",
   "mimetype": "text/x-python",
   "name": "python",
   "nbconvert_exporter": "python",
   "pygments_lexer": "ipython3",
   "version": "3.11.4"
  },
  "orig_nbformat": 4
 },
 "nbformat": 4,
 "nbformat_minor": 2
}
