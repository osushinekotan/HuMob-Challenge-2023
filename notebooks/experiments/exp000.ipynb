{
 "cells": [
  {
   "cell_type": "code",
   "execution_count": null,
   "metadata": {},
   "outputs": [],
   "source": [
    "%cd /workspace"
   ]
  },
  {
   "cell_type": "code",
   "execution_count": null,
   "metadata": {},
   "outputs": [],
   "source": [
    "import pandas as pd\n",
    "from pathlib import Path\n",
    "from src.logger import Logger\n",
    "\n",
    "from torch.nn.utils.rnn import pad_sequence\n",
    "import torch"
   ]
  },
  {
   "cell_type": "code",
   "execution_count": null,
   "metadata": {},
   "outputs": [],
   "source": [
    "class Config:\n",
    "    debug = True\n",
    "    seed = 8823"
   ]
  },
  {
   "cell_type": "code",
   "execution_count": null,
   "metadata": {},
   "outputs": [],
   "source": [
    "HOME = Path(\"/workspace\")\n",
    "RESOURCES = HOME / \"resources\"\n",
    "INPUT = RESOURCES / \"input\"\n",
    "\n",
    "config = Config()\n",
    "logger = Logger(__name__)"
   ]
  },
  {
   "cell_type": "code",
   "execution_count": null,
   "metadata": {},
   "outputs": [],
   "source": [
    "def read_parquet_from_csv(filepath:Path, dirpath:Path) -> pd.DataFrame: \n",
    "    name = filepath.name.split(\".\")[0]\n",
    "    parquet_filepath = dirpath / f\"{name}.parquet\"\n",
    "    if parquet_filepath.is_file():\n",
    "        logger.info(\"load parquet file\")\n",
    "        return pd.read_parquet(parquet_filepath)\n",
    "    \n",
    "    logger.info(\"load csv & convert to parquet\")\n",
    "    df = pd.read_csv(filepath)\n",
    "    df.to_parquet(parquet_filepath)\n",
    "    return df\n",
    "    "
   ]
  },
  {
   "cell_type": "code",
   "execution_count": null,
   "metadata": {},
   "outputs": [],
   "source": [
    "task1_df = read_parquet_from_csv(filepath=INPUT / \"task1_dataset.csv.gz\", dirpath=INPUT)\n",
    "task2_df = read_parquet_from_csv(filepath=INPUT / \"task2_dataset.csv.gz\", dirpath=INPUT)\n",
    "poi_df = read_parquet_from_csv(filepath=INPUT / \"cell_POIcat.csv.gz\", dirpath=INPUT)\n",
    "\n",
    "if config.debug:\n",
    "    user_ids = task1_df[\"uid\"].sample(100, random_state=config.seed)\n",
    "    task1_df = task1_df[task1_df[\"uid\"].isin(user_ids)]"
   ]
  },
  {
   "cell_type": "code",
   "execution_count": null,
   "metadata": {},
   "outputs": [],
   "source": [
    "\n",
    "def make_sequences(df:pd.DataFrame, group_key:str, group_values:list[str]):\n",
    "    grouped = df.groupby(group_key)\n",
    "    \n",
    "    def _agg(group_value):\n",
    "        return [torch.tensor(group[group_value].to_numpy()) for _, group in grouped]\n",
    "    \n",
    "    sequences = {group_value:_agg(group_value) for group_value in group_values}\n",
    "    return sequences\n",
    "    \n",
    "sequences = make_sequences(df=task1_df, group_key=\"uid\", group_values=[\"uid\", \"d\", \"t\"])\n"
   ]
  },
  {
   "cell_type": "code",
   "execution_count": null,
   "metadata": {},
   "outputs": [],
   "source": [
    "class TrainDataset(torch.utils.data.Dataset):\n",
    "    def __init__(self, sequences):\n",
    "        self.uid = sequences[\"uid\"]\n",
    "        self.d = sequences[\"d\"]\n",
    "        self.t = sequences[\"t\"]\n",
    "\n",
    "    def __len__(self):\n",
    "        return len(self.uid)\n",
    "\n",
    "    def __getitem__(self, index: int) -> dict[str : torch.Tensor]:\n",
    "        features = self.uid[index]\n",
    "        return {\"features\":features}\n",
    "\n",
    "\n",
    "def collate_fn(batch):\n",
    "    # batch is a list of sequences\n",
    "    sequences = [item[\"features\"] for item in batch]\n",
    "    lengths = [len(seq) for seq in sequences]\n",
    "    sequences_padded = pad_sequence([torch.as_tensor(seq) for seq in sequences], batch_first=True)\n",
    "    return {\"features\":sequences_padded, \"lengths\":lengths}\n",
    "\n",
    "ds = TrainDataset(sequences=sequences)\n",
    "dl = torch.utils.data.DataLoader(ds, batch_size=5, collate_fn=collate_fn)\n",
    "\n",
    "for x in dl:\n",
    "    print(x[\"lengths\"], [len(x_) for x_ in x[\"features\"]])"
   ]
  },
  {
   "cell_type": "code",
   "execution_count": null,
   "metadata": {},
   "outputs": [],
   "source": []
  },
  {
   "cell_type": "code",
   "execution_count": null,
   "metadata": {},
   "outputs": [],
   "source": []
  }
 ],
 "metadata": {
  "kernelspec": {
   "display_name": ".venv",
   "language": "python",
   "name": "python3"
  },
  "language_info": {
   "codemirror_mode": {
    "name": "ipython",
    "version": 3
   },
   "file_extension": ".py",
   "mimetype": "text/x-python",
   "name": "python",
   "nbconvert_exporter": "python",
   "pygments_lexer": "ipython3",
   "version": "3.11.4"
  },
  "orig_nbformat": 4
 },
 "nbformat": 4,
 "nbformat_minor": 2
}
