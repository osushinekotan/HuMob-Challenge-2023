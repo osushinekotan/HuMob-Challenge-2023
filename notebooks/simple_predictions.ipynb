{
 "cells": [
  {
   "cell_type": "code",
   "execution_count": null,
   "metadata": {},
   "outputs": [],
   "source": [
    "import pandas as pd\n",
    "import gc"
   ]
  },
  {
   "cell_type": "code",
   "execution_count": null,
   "metadata": {},
   "outputs": [],
   "source": [
    "df = pd.read_parquet(\"/workspace/resources/input/task1_dataset_raw_train.parquet\")"
   ]
  },
  {
   "cell_type": "code",
   "execution_count": null,
   "metadata": {},
   "outputs": [],
   "source": [
    "test_uids = df.loc[df[\"x\"] == 999, \"uid\"].unique()\n",
    "df = df[~df[\"uid\"].isin(test_uids)].reset_index(drop=True)\n",
    "uids = df[\"uid\"].unique()\n",
    "df = df[df[\"uid\"].isin(uids[:10000])]"
   ]
  },
  {
   "cell_type": "code",
   "execution_count": null,
   "metadata": {},
   "outputs": [],
   "source": [
    "tr_uids = uids[:5000]\n",
    "va_uids = uids[5000:]\n",
    "\n",
    "train_df = df[df[\"uid\"].isin(tr_uids)].reset_index(drop=True)\n",
    "valid_df = df[df[\"uid\"].isin(va_uids)].reset_index(drop=True)\n",
    "del df\n",
    "gc.collect()"
   ]
  },
  {
   "cell_type": "code",
   "execution_count": null,
   "metadata": {},
   "outputs": [],
   "source": [
    "def assign_day_of_week(df):\n",
    "    df[\"dayofweek\"] = (df[\"d\"] % 7).astype(int)\n",
    "    df[\"weekend\"] = df[\"dayofweek\"].isin([6, 0])\n",
    "    return df\n",
    "\n",
    "\n",
    "def assign_t_labe(df):\n",
    "    morning = {k: 0 for k in list(range(12, 36))}\n",
    "    midnight = {k: 1 for k in list(range(36, 48)) + list(range(0, 12))}\n",
    "    t_label_mapping = {**morning, **midnight}\n",
    "    df[\"t_label\"] = df[\"t\"].map(t_label_mapping)\n",
    "    return df\n",
    "\n",
    "def assign_detailed_t_label(df):\n",
    "    division = 48 // 12  # 48を12で割った値\n",
    "    result_dict = {i: i // division for i in range(48)}\n",
    "    df[\"detailed_t_label\"] = df[\"t\"].map(result_dict)\n",
    "    return df\n",
    "    \n",
    "\n",
    "train_df = assign_day_of_week(train_df)\n",
    "train_df = assign_t_labe(train_df)\n",
    "train_df = assign_detailed_t_label(train_df)\n",
    "\n",
    "valid_df = assign_day_of_week(valid_df)\n",
    "valid_df = assign_t_labe(valid_df)\n",
    "valid_df = assign_detailed_t_label(valid_df)\n",
    "\n",
    "keys = [\n",
    "    \"uid\", \n",
    "    \"weekend\", \n",
    "    \"t\",\n",
    "    ]\n",
    "agg_df = train_df.query(\"d < 60\").groupby(keys)[[\"x\", \"y\"]].agg(\"mean\").reset_index().rename(columns={\"x\":\"agg_x\", \"y\":\"agg_y\"})\n",
    "if \"agg_x\" in train_df.columns:\n",
    "    train_df.drop(\"agg_x\", axis=1, inplace=True)\n",
    "    train_df.drop(\"agg_y\", axis=1, inplace=True)\n",
    "train_df = pd.merge(train_df, agg_df, on=keys, how=\"left\")\n",
    "train_df.head()"
   ]
  },
  {
   "cell_type": "code",
   "execution_count": null,
   "metadata": {},
   "outputs": [],
   "source": [
    "preds_df = train_df.query(\"d >= 60\").dropna().reset_index(drop=True)\n",
    "preds_df"
   ]
  },
  {
   "cell_type": "code",
   "execution_count": null,
   "metadata": {},
   "outputs": [],
   "source": [
    "from sklearn.metrics import mean_squared_error\n",
    "import geobleu\n",
    "from tqdm import tqdm"
   ]
  },
  {
   "cell_type": "code",
   "execution_count": null,
   "metadata": {},
   "outputs": [],
   "source": [
    "reference = preds_df[[\"uid\", \"d\", \"t\", \"x\", \"y\"]]\n",
    "generated = preds_df[[\"uid\", \"d\", \"t\", \"agg_x\", \"agg_y\"]].rename(columns={\"agg_x\":\"x\", \"agg_y\":\"y\"})"
   ]
  },
  {
   "cell_type": "code",
   "execution_count": null,
   "metadata": {},
   "outputs": [],
   "source": [
    "geobleu_score = 0\n",
    "dtw_score = 0\n",
    "\n",
    "eval_uids = reference[\"uid\"].unique()[:100]\n",
    "for uid in tqdm(eval_uids):\n",
    "    a_generated = generated.loc[generated[\"uid\"] == uid, [\"d\", \"t\", \"x\", \"y\"]].values.tolist()\n",
    "    a_reference = reference.loc[reference[\"uid\"] == uid, [\"d\", \"t\", \"x\", \"y\"]].values.tolist()\n",
    "    \n",
    "    geobleu_score += geobleu.calc_geobleu(a_generated, a_reference, processes=3)\n",
    "    dtw_score += geobleu.calc_dtw(a_generated, a_reference, processes=3)\n",
    "\n",
    "geobleu_score = geobleu_score / len(eval_uids)\n",
    "dtw_score = dtw_score / len(eval_uids)\n",
    "\n",
    "print(f\"geobleu_score={geobleu_score}, dtw_score={dtw_score}\")\n",
    "\n",
    "rmse = mean_squared_error(y_true=reference[[\"x\", \"y\"]].values, y_pred=generated[[\"x\", \"y\"]].values, squared=False)\n",
    "print(f\"rmse={rmse}\")"
   ]
  },
  {
   "cell_type": "code",
   "execution_count": null,
   "metadata": {},
   "outputs": [],
   "source": [
    "import pandas as pd\n",
    "import seaborn as sns\n",
    "import matplotlib.pyplot as plt\n",
    "\n",
    "def plot_uid(df, uids):\n",
    "    \"\"\"\n",
    "    df: DataFrame - 入力データ\n",
    "    uids: list - グラフを出力したいuidのリスト\n",
    "    \"\"\"\n",
    "        \n",
    "    # d >= 60 の部分の色を変えるための列\n",
    "    df['color_condition'] = df['d'] >= 60\n",
    "\n",
    "    n_uids = len(uids)\n",
    "    fig, axs = plt.subplots(n_uids, 2, figsize=(15, 5*n_uids))\n",
    "\n",
    "    for i, uid in enumerate(uids):\n",
    "        df_uid = df[df['uid'] == uid]\n",
    "\n",
    "        for j, col in enumerate(['x', 'y']):\n",
    "            mean_val = df_uid[col].mean()\n",
    "            \n",
    "            # 平均値の線\n",
    "            axs[i, j].axhline(mean_val, color='green', linestyle='--', label='Mean')\n",
    "            \n",
    "            # 平均値±10の線\n",
    "            axs[i, j].axhline(mean_val + 10, color='purple', linestyle=':', label='Mean + 10')\n",
    "            axs[i, j].axhline(mean_val - 10, color='purple', linestyle=':', label='Mean - 10')\n",
    "            \n",
    "            sns.lineplot(x='time', y=col, hue='color_condition', data=df_uid, palette=[\"blue\", \"red\"], ax=axs[i, j], legend=False, label=col)\n",
    "            \n",
    "            # agg_x または agg_y のデータを追加\n",
    "            if col == 'x':\n",
    "                sns.lineplot(x='time', y='agg_x', data=df_uid, color='orange', ax=axs[i, j], label='agg_x')\n",
    "            else:\n",
    "                sns.lineplot(x='time', y='agg_y', data=df_uid, color='cyan', ax=axs[i, j], label='agg_y')\n",
    "            \n",
    "            axs[i, j].set_title(f'UID {uid} - {col} value over time')\n",
    "            axs[i, j].tick_params(axis='x', rotation=45)\n",
    "            axs[i, j].grid(True)\n",
    "            axs[i, j].set_facecolor(\"#f5f5f5\")\n",
    "            axs[i, j].legend()\n",
    "    \n",
    "    plt.tight_layout()\n",
    "    plt.show()\n",
    "\n",
    "train_df[\"time\"] = (train_df[\"d\"].astype(str).str.zfill(2) + train_df[\"t\"].astype(str).str.zfill(2)).astype(int)\n",
    "uids = pd.Series(train_df[\"uid\"].unique()).sample(5, random_state=None)\n",
    "plot_uid(train_df, uids)\n"
   ]
  }
 ],
 "metadata": {
  "kernelspec": {
   "display_name": ".venv",
   "language": "python",
   "name": "python3"
  },
  "language_info": {
   "codemirror_mode": {
    "name": "ipython",
    "version": 3
   },
   "file_extension": ".py",
   "mimetype": "text/x-python",
   "name": "python",
   "nbconvert_exporter": "python",
   "pygments_lexer": "ipython3",
   "version": "3.11.4"
  },
  "orig_nbformat": 4
 },
 "nbformat": 4,
 "nbformat_minor": 2
}
