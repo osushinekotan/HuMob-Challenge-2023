{
 "cells": [
  {
   "cell_type": "code",
   "execution_count": null,
   "metadata": {},
   "outputs": [],
   "source": [
    "import pandas as pd"
   ]
  },
  {
   "cell_type": "code",
   "execution_count": null,
   "metadata": {},
   "outputs": [],
   "source": [
    "task1_test_df = pd.read_parquet(\"/workspace/resources/tmp/task1_test.parquet\")\n",
    "task1_preds_df = pd.read_csv(\"/workspace/resources/tmp/osushineko_task1midterm_humob.csv.gz\")"
   ]
  },
  {
   "cell_type": "code",
   "execution_count": null,
   "metadata": {},
   "outputs": [],
   "source": [
    "df = pd.concat([task1_test_df.query(\"d < 60\"), task1_preds_df]).reset_index(drop=True)\n",
    "df[\"time\"] = (df[\"d\"].astype(str).str.zfill(2) + df[\"t\"].astype(str).str.zfill(2)).astype(int)"
   ]
  },
  {
   "cell_type": "code",
   "execution_count": null,
   "metadata": {},
   "outputs": [],
   "source": [
    "def assign_day_of_week(df):\n",
    "    df[\"dayofweek\"] = (df[\"d\"] % 7).astype(int)\n",
    "    df[\"weekend\"] = df[\"dayofweek\"].isin([6, 0])\n",
    "    return df\n",
    "\n",
    "\n",
    "def assign_t_labe(df):\n",
    "    morning = {k: 0 for k in list(range(12, 36))}\n",
    "    midnight = {k: 1 for k in list(range(36, 48)) + list(range(0, 12))}\n",
    "    t_label_mapping = {**morning, **midnight}\n",
    "    df[\"t_label\"] = df[\"t\"].map(t_label_mapping)\n",
    "    return df\n",
    "\n",
    "def assign_detailed_t_label(df):\n",
    "    division = 48 // 12  # 48を12で割った値\n",
    "    result_dict = {i: i // division for i in range(48)}\n",
    "    df[\"detailed_t_label\"] = df[\"t\"].map(result_dict)\n",
    "    return df\n",
    "    \n",
    "\n",
    "df = assign_day_of_week(df)\n",
    "df = assign_t_labe(df)\n",
    "df = assign_detailed_t_label(df)\n",
    "\n",
    "keys = [\n",
    "    \"uid\", \n",
    "    \"weekend\", \n",
    "    \"detailed_t_label\",\n",
    "    ]\n",
    "agg_df = df.query(\"d < 60\").groupby(keys)[[\"x\", \"y\"]].agg(\"median\").reset_index().rename(columns={\"x\":\"agg_x\", \"y\":\"agg_y\"})\n",
    "if \"agg_x\" in df.columns:\n",
    "    df.drop(\"agg_x\", axis=1, inplace=True)\n",
    "    df.drop(\"agg_y\", axis=1, inplace=True)\n",
    "df = pd.merge(df, agg_df, on=keys, how=\"left\")\n",
    "df.head()"
   ]
  },
  {
   "cell_type": "code",
   "execution_count": null,
   "metadata": {},
   "outputs": [],
   "source": [
    "import pandas as pd\n",
    "import seaborn as sns\n",
    "import matplotlib.pyplot as plt\n",
    "\n",
    "def plot_uid(df, uids):\n",
    "    \"\"\"\n",
    "    df: DataFrame - 入力データ\n",
    "    uids: list - グラフを出力したいuidのリスト\n",
    "    \"\"\"\n",
    "        \n",
    "    # d >= 60 の部分の色を変えるための列\n",
    "    df['color_condition'] = df['d'] >= 60\n",
    "\n",
    "    n_uids = len(uids)\n",
    "    fig, axs = plt.subplots(n_uids, 2, figsize=(15, 5*n_uids))\n",
    "\n",
    "    for i, uid in enumerate(uids):\n",
    "        df_uid = df[df['uid'] == uid]\n",
    "\n",
    "        for j, col in enumerate(['x', 'y']):\n",
    "            mean_val = df_uid[col].mean()\n",
    "            \n",
    "            # 平均値の線\n",
    "            axs[i, j].axhline(mean_val, color='green', linestyle='--', label='Mean')\n",
    "            \n",
    "            # 平均値±10の線\n",
    "            axs[i, j].axhline(mean_val + 10, color='purple', linestyle=':', label='Mean + 10')\n",
    "            axs[i, j].axhline(mean_val - 10, color='purple', linestyle=':', label='Mean - 10')\n",
    "            \n",
    "            sns.lineplot(x='time', y=col, hue='color_condition', data=df_uid, palette=[\"blue\", \"red\"], ax=axs[i, j], legend=False, label=col)\n",
    "            \n",
    "            # agg_x または agg_y のデータを追加\n",
    "            if col == 'x':\n",
    "                sns.lineplot(x='time', y='agg_x', data=df_uid, color='orange', ax=axs[i, j], label='agg_x')\n",
    "            else:\n",
    "                sns.lineplot(x='time', y='agg_y', data=df_uid, color='cyan', ax=axs[i, j], label='agg_y')\n",
    "            \n",
    "            axs[i, j].set_title(f'UID {uid} - {col} value over time')\n",
    "            axs[i, j].tick_params(axis='x', rotation=45)\n",
    "            axs[i, j].grid(True)\n",
    "            axs[i, j].set_facecolor(\"#f5f5f5\")\n",
    "            axs[i, j].legend()\n",
    "    \n",
    "    plt.tight_layout()\n",
    "    plt.show()\n",
    "\n",
    "uids = pd.Series(df[\"uid\"].unique()).sample(5, random_state=None)\n",
    "plot_uid(df, uids)\n"
   ]
  },
  {
   "cell_type": "code",
   "execution_count": null,
   "metadata": {},
   "outputs": [],
   "source": []
  },
  {
   "cell_type": "code",
   "execution_count": null,
   "metadata": {},
   "outputs": [],
   "source": []
  }
 ],
 "metadata": {
  "kernelspec": {
   "display_name": ".venv",
   "language": "python",
   "name": "python3"
  },
  "language_info": {
   "codemirror_mode": {
    "name": "ipython",
    "version": 3
   },
   "file_extension": ".py",
   "mimetype": "text/x-python",
   "name": "python",
   "nbconvert_exporter": "python",
   "pygments_lexer": "ipython3",
   "version": "3.11.4"
  },
  "orig_nbformat": 4
 },
 "nbformat": 4,
 "nbformat_minor": 2
}
